{
 "cells": [
  {
   "cell_type": "code",
   "execution_count": 4,
   "id": "3ff2fea4",
   "metadata": {},
   "outputs": [
    {
     "name": "stdout",
     "output_type": "stream",
     "text": [
      "Requirement already satisfied: opencv-contrib-python in c:\\users\\acer\\appdata\\roaming\\python\\python38\\site-packages (4.5.5.64)\n",
      "Requirement already satisfied: numpy>=1.14.5 in c:\\users\\acer\\anaconda3\\lib\\site-packages (from opencv-contrib-python) (1.20.1)\n",
      "\n",
      "[notice] A new release of pip available: 22.1.2 -> 22.2.1\n",
      "[notice] To update, run: python.exe -m pip install --upgrade pip\n"
     ]
    }
   ],
   "source": [
    "!pip install opencv-contrib-python\n"
   ]
  },
  {
   "cell_type": "code",
   "execution_count": 1,
   "id": "f7a50ebb",
   "metadata": {},
   "outputs": [],
   "source": [
    "import cv2\n",
    "import numpy as np"
   ]
  },
  {
   "cell_type": "code",
   "execution_count": null,
   "id": "10803f8c",
   "metadata": {},
   "outputs": [],
   "source": [
    "cap = cv2.VideoCapture(\"input/video.mp4\")\n",
    "\n",
    "min_width_react = 80 #min width reactangle\n",
    "min_height_react = 80 #min width reactangle\n",
    "count_line_position=550\n",
    "\n",
    "\n",
    "algo = cv2.bgsegm.createBackgroundSubtractorMOG()\n",
    "\n",
    "def center_handle(x,y,w,h):\n",
    "    x1=int(w/2)\n",
    "    y1=int(h/2)\n",
    "    cx=x+x1\n",
    "    cy=y+y1\n",
    "    return cx,cy\n",
    "\n",
    "detect = []\n",
    "offset=6 #allowable error between pixel\n",
    "counter=0\n",
    "\n",
    "\n",
    "while True:\n",
    "    ret,frame1 = cap.read()\n",
    "    \n",
    "    grey = cv2.cvtColor(frame1,cv2.COLOR_BGR2GRAY)\n",
    "    blur = cv2.GaussianBlur(grey,(3,3),5)\n",
    "    img_sub = algo.apply(blur)\n",
    "    dilat = cv2.dilate(img_sub,np.ones((5,5)))\n",
    "    kernal = cv2.getStructuringElement(cv2.MORPH_ELLIPSE,(5,5))\n",
    "    dilatada = cv2.morphologyEx(dilat,cv2.MORPH_CLOSE, kernal)\n",
    "    dilatada = cv2.morphologyEx(dilatada,cv2.MORPH_CLOSE, kernal)\n",
    "    counterSahpe,h = cv2.findContours(dilatada,cv2.RETR_TREE, cv2.CHAIN_APPROX_SIMPLE)\n",
    "    #cv2.imshow('Detector', dilatada)\n",
    "    \n",
    "    cv2.line(frame1,(25,count_line_position),(1200,count_line_position),(255,127,0),3)\n",
    "    \n",
    "    for (i,c) in enumerate(counterSahpe):\n",
    "        (x,y,w,h) = cv2.boundingRect(c)\n",
    "        validate_counter = (w>= min_width_react) and (h>=min_height_react)\n",
    "        if not validate_counter:\n",
    "            continue\n",
    "        cv2.rectangle(frame1, (x,y),(x+w,y+h),(0,255,0),2)\n",
    "        cv2.putText(frame1,\"VEHICLE\" +str(counter),(x,y-20),cv2.FONT_HERSHEY_SIMPLEX,1,(255,244,0),2)\n",
    "        center = center_handle(x,y,w,h)\n",
    "        detect.append(center)\n",
    "        cv2.circle(frame1,center,4,(0,0,255),-1)\n",
    "        \n",
    "        for (x,y) in detect:\n",
    "            if y<(count_line_position+offset) and y>(count_line_position-offset):\n",
    "                counter+=1\n",
    "            cv2.line(frame1,(25,count_line_position),(1200,count_line_position),(0,127,255),3)\n",
    "            detect.remove((x,y))\n",
    "            print(\"Vehicle Counter :\"+str(counter))\n",
    "    cv2.putText(frame1,\"VEHICLE COUNTER\" +str(counter),(450,70),cv2.FONT_HERSHEY_SIMPLEX,2,(0,0,255),5)\n",
    "     \n",
    "            \n",
    "    \n",
    "    cv2.imshow('Video Original',frame1)\n",
    "    \n",
    "    if cv2.waitKey(1)==13:\n",
    "        break\n",
    "        \n",
    "cv2.destroyAllWindows()\n",
    "cap.release()"
   ]
  },
  {
   "cell_type": "code",
   "execution_count": null,
   "id": "29065e0d",
   "metadata": {},
   "outputs": [],
   "source": []
  }
 ],
 "metadata": {
  "kernelspec": {
   "display_name": "Python 3",
   "language": "python",
   "name": "python3"
  },
  "language_info": {
   "codemirror_mode": {
    "name": "ipython",
    "version": 3
   },
   "file_extension": ".py",
   "mimetype": "text/x-python",
   "name": "python",
   "nbconvert_exporter": "python",
   "pygments_lexer": "ipython3",
   "version": "3.8.8"
  }
 },
 "nbformat": 4,
 "nbformat_minor": 5
}
